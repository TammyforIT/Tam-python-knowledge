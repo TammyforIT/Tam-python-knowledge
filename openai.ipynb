{
 "cells": [
  {
   "cell_type": "markdown",
   "metadata": {},
   "source": [
    "# OpenAI Setup\n",
    "\n",
    "To work on this project you must first configure your `ds` conda environment by following the listed steps below. By the end of these steps, you will have a functioning environment that contains your hidden API key. Please follow these instructions closely or your project will not function correctly.\n",
    "\n",
    "1) Activate your conda environment via the following terminal command:\n",
    "```bash\n",
    "conda activate ds\n",
    "```\n",
    "\n",
    "2) Confirm that you see the `(ds)` prompt at the beginning of your environment.\n",
    "\n",
    "3) Once you've confirmed that you are in your environment, set your given API key to a conda environment variable using the terminal command below:\n",
    "\n",
    "```bash\n",
    "conda env config vars set OPENAI_API_KEY=\"your_api_key\"\n",
    "```\n",
    "\n",
    "4) Deactivate and reactive your environment by running the following commands in your terminal\n",
    "```bash\n",
    "conda deactivate ds\n",
    "conda activate ds\n",
    "```\n",
    "\n",
    "5) Next, install the `openai` package by running the following pip command:\n",
    "```bash\n",
    "pip install openai\n",
    "```\n",
    "\n",
    "6) Activate your kernel and run the code-block below to verify that you've successfully installed the `openai` package."
   ]
  },
  {
   "cell_type": "code",
   "execution_count": 4,
   "metadata": {},
   "outputs": [
    {
     "ename": "ModuleNotFoundError",
     "evalue": "No module named 'openai'",
     "output_type": "error",
     "traceback": [
      "\u001b[31m---------------------------------------------------------------------------\u001b[39m",
      "\u001b[31mModuleNotFoundError\u001b[39m                       Traceback (most recent call last)",
      "\u001b[36mCell\u001b[39m\u001b[36m \u001b[39m\u001b[32mIn[4]\u001b[39m\u001b[32m, line 1\u001b[39m\n\u001b[32m----> \u001b[39m\u001b[32m1\u001b[39m \u001b[38;5;28;01mfrom\u001b[39;00m\u001b[38;5;250m \u001b[39m\u001b[34;01mopenai\u001b[39;00m\u001b[38;5;250m \u001b[39m\u001b[38;5;28;01mimport\u001b[39;00m OpenAI\n\u001b[32m      3\u001b[39m client = OpenAI()\n\u001b[32m      5\u001b[39m completion = client.chat.completions.create(\n\u001b[32m      6\u001b[39m     model=\u001b[33m\"\u001b[39m\u001b[33mgpt-4o-mini\u001b[39m\u001b[33m\"\u001b[39m,\n\u001b[32m      7\u001b[39m     messages=[\n\u001b[32m   (...)\u001b[39m\u001b[32m     10\u001b[39m     ]\n\u001b[32m     11\u001b[39m )\n",
      "\u001b[31mModuleNotFoundError\u001b[39m: No module named 'openai'"
     ]
    }
   ],
   "source": [
    "from openai import OpenAI\n",
    "\n",
    "client = OpenAI()\n",
    "\n",
    "completion = client.chat.completions.create(\n",
    "    model=\"gpt-4o-mini\",\n",
    "    messages=[\n",
    "\t    { \"role\": \"developer\",  \"content\": \"You are a children's short-story writer\" },\n",
    "        { \"role\": \"user\",  \"content\": \"Write a one-sentence bedtime story about a unicorn.\" }\n",
    "    ]\n",
    ")\n",
    "\n",
    "print(completion.choices[0].message.content)"
   ]
  },
  {
   "cell_type": "markdown",
   "metadata": {},
   "source": [
    "## OpenAI Exercise\n",
    "\n",
    "Implement code below that will give a user career advice using the `openai` API and basic Python syntax.\n",
    "\n",
    "This code-block should take in input from a user using the `input()` function and send this message to the `gpt-4o-mini` model. Additionally you should use prompt engineering to ensure that the models responses take into account current market outlooks and tailor next actions for a beginner who is just getting started in data science. Additionally the response should only be at most 1 paragraph.\n",
    "\n",
    "**Example Usage:**\n",
    "Input: \"I have an undergraduate degree in biology, but I want to break into data science. What should I do to get started?\"\n",
    "Output: \"Start by building a strong foundation in Python, statistics, and data analysis using free resources like Khan Academy, Codecademy, or DataCamp. Then, work through hands-on projects with real datasets (e.g., from Kaggle or UCI) to practice cleaning, visualizing, and modeling data. Supplement this with a few targeted online courses or certificates (like Google’s Data Analytics or IBM’s Data Science Professional Certificate). Try to connect your biology background by analyzing biological or health-related data to build a portfolio that shows off both your domain knowledge and new technical skills.\""
   ]
  },
  {
   "cell_type": "code",
   "execution_count": null,
   "metadata": {},
   "outputs": [],
   "source": [
    "from openai import OpenAI\n",
    "\n",
    "client = OpenAI()\n",
    "\n",
    "# take in user input\n",
    "...\n",
    "\n",
    "# send this input to the completions endpoint along with a developer message to fine-tune responses\n",
    "...\n",
    "\n",
    "# display the output\n",
    "..."
   ]
  }
 ],
 "metadata": {
  "kernelspec": {
   "display_name": "Python 3",
   "language": "python",
   "name": "python3"
  },
  "language_info": {
   "codemirror_mode": {
    "name": "ipython",
    "version": 3
   },
   "file_extension": ".py",
   "mimetype": "text/x-python",
   "name": "python",
   "nbconvert_exporter": "python",
   "pygments_lexer": "ipython3",
   "version": "3.13.1"
  }
 },
 "nbformat": 4,
 "nbformat_minor": 2
}
